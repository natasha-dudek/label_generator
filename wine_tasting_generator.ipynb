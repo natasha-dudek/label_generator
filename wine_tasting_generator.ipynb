{
 "cells": [
  {
   "cell_type": "markdown",
   "metadata": {},
   "source": [
    "# Generate wine tasting descriptions\n",
    "\n",
    "In this notebook we're going to train an LSTM to generate wine tasting descriptions. "
   ]
  },
  {
   "cell_type": "code",
   "execution_count": 1,
   "metadata": {},
   "outputs": [],
   "source": [
    "# automatically upload modules\n",
    "%load_ext autoreload\n",
    "%autoreload 2"
   ]
  },
  {
   "cell_type": "code",
   "execution_count": 2,
   "metadata": {},
   "outputs": [],
   "source": [
    "from argparse import Namespace\n",
    "\n",
    "import pandas as pd\n",
    "import torch\n",
    "\n",
    "from modules import config\n",
    "from modules import model\n",
    "from modules import train\n",
    "from modules import utils"
   ]
  },
  {
   "cell_type": "code",
   "execution_count": 3,
   "metadata": {},
   "outputs": [],
   "source": [
    "flags = Namespace(\n",
    "    batch_size=128, # batch size\n",
    "    drop_prob = 0.05, # dropout probability\n",
    "    embedding_size=300, # glove vector dimension -- use 300\n",
    "    gradients_norm=5, # norm to clip gradients\n",
    "    learning_rate=0.001,\n",
    "    lstm_size=300, # LSTM hidden size\n",
    "    min_count=10, # do not use tokens with <= min_count occurences in corpus\n",
    "    num_epochs=5, # epochs for which to train\n",
    "    num_layers=3, # layers in the LSTM\n",
    "    seq_size=50, # sequence length\n",
    "    top_k=5, # top k results to sample word from\n",
    "    )"
   ]
  },
  {
   "cell_type": "markdown",
   "metadata": {},
   "source": [
    "### Load dataset\n",
    "\n",
    "Our data comes from two sources:\n",
    "    1. The SAQ website via a scraper that I coded (for those outside of Quebec: the SAQ is a government-owned Crown corporation and monopoly that is responsible for the trade of alcoholic beverages within the province).\n",
    "    2. The Kaggle \"Wine Reviews\" dataset (https://www.kaggle.com/zynicide/wine-reviews) scrapped from the Wine Enthusiast website\n",
    "\n",
    "We will load the data and view a few samples of real wine descriptions"
   ]
  },
  {
   "cell_type": "code",
   "execution_count": 4,
   "metadata": {},
   "outputs": [
    {
     "data": {
      "text/html": [
       "<div>\n",
       "<style scoped>\n",
       "    .dataframe tbody tr th:only-of-type {\n",
       "        vertical-align: middle;\n",
       "    }\n",
       "\n",
       "    .dataframe tbody tr th {\n",
       "        vertical-align: top;\n",
       "    }\n",
       "\n",
       "    .dataframe thead th {\n",
       "        text-align: right;\n",
       "    }\n",
       "</style>\n",
       "<table border=\"1\" class=\"dataframe\">\n",
       "  <thead>\n",
       "    <tr style=\"text-align: right;\">\n",
       "      <th></th>\n",
       "      <th>description</th>\n",
       "    </tr>\n",
       "  </thead>\n",
       "  <tbody>\n",
       "    <tr>\n",
       "      <th>1</th>\n",
       "      <td>Cherry-red in colour, this red boasts a medium nose exuding woody, floral and fruity aromas. Discover this medium-bodied wine expressing light acidity and offering a full-bodied texture and fleshy tannins. It also unveils a medium mouthfeel that leads into a medium finish.</td>\n",
       "    </tr>\n",
       "    <tr>\n",
       "      <th>4</th>\n",
       "      <td>This dry purplish red coloured wine features medium woody, empyreumatic, spicy, fruity and vegetal scents and offers a broad texture as well as firm tannins.</td>\n",
       "    </tr>\n",
       "    <tr>\n",
       "      <th>6</th>\n",
       "      <td>This dry and purplish red coloured red showcases a simple nose releasing woody, spicy and fruity scents. You will be charmed with this medium-bodied wine revealing a broad texture, smooth tannins and a medium finish.</td>\n",
       "    </tr>\n",
       "  </tbody>\n",
       "</table>\n",
       "</div>"
      ],
      "text/plain": [
       "                                                                                                                                                                                                                                                                         description\n",
       "1  Cherry-red in colour, this red boasts a medium nose exuding woody, floral and fruity aromas. Discover this medium-bodied wine expressing light acidity and offering a full-bodied texture and fleshy tannins. It also unveils a medium mouthfeel that leads into a medium finish.\n",
       "4                                                                                                                      This dry purplish red coloured wine features medium woody, empyreumatic, spicy, fruity and vegetal scents and offers a broad texture as well as firm tannins.\n",
       "6                                                           This dry and purplish red coloured red showcases a simple nose releasing woody, spicy and fruity scents. You will be charmed with this medium-bodied wine revealing a broad texture, smooth tannins and a medium finish."
      ]
     },
     "execution_count": 4,
     "metadata": {},
     "output_type": "execute_result"
    }
   ],
   "source": [
    "col_names = ['wine', 'tasting notes', 'pairings', 'country', 'region', 'producer', 'grape varieties', 'colour', 'alcohol %', 'sugar (g/L)', 'tint', 'intensity', 'aromas', 'flavours', 'price (CAD)']\n",
    "df_saq = pd.read_csv(config.SAQ_DATA, sep = '*', header = None, names=col_names).dropna(subset=['tasting notes'])\n",
    "\n",
    "df_winemag = pd.read_csv(config.WE_DATA, encoding=\"utf-8\")\n",
    "df_winemag = df_winemag.drop(df_winemag.columns[0],axis=1)\n",
    "\n",
    "df = pd.concat([df_saq['tasting notes'], df_winemag['description']]).to_frame(\"description\")\n",
    "pd.set_option('display.max_colwidth', None)\n",
    "df[:3]"
   ]
  },
  {
   "cell_type": "code",
   "execution_count": 5,
   "metadata": {},
   "outputs": [
    {
     "name": "stdout",
     "output_type": "stream",
     "text": [
      "There are 133235 wine tasting decriptions in our dataset\n"
     ]
    }
   ],
   "source": [
    "print(\"There are %d wine tasting decriptions in our dataset\" % df.shape[0])"
   ]
  },
  {
   "cell_type": "markdown",
   "metadata": {},
   "source": [
    "### Prepare data for training\n",
    "\n",
    "- Tokenize the corpus of documents (wine descriptions)\n",
    "- Make dicts converting tokens to unique ints and those same ints to tokens\n",
    "- Make training set --> n-grams from tokenized documents"
   ]
  },
  {
   "cell_type": "code",
   "execution_count": 6,
   "metadata": {},
   "outputs": [],
   "source": [
    "tokenized_corpus = utils.tokenize(df)"
   ]
  },
  {
   "cell_type": "code",
   "execution_count": 7,
   "metadata": {},
   "outputs": [],
   "source": [
    "token_to_num, num_to_token = utils.word_to_int(tokenized_corpus, flags.min_count)"
   ]
  },
  {
   "cell_type": "code",
   "execution_count": 8,
   "metadata": {},
   "outputs": [],
   "source": [
    "X, Y, seeds = utils.make_training_set(tokenized_corpus, flags.seq_size, token_to_num)"
   ]
  },
  {
   "cell_type": "markdown",
   "metadata": {},
   "source": [
    "### Train or load a model"
   ]
  },
  {
   "cell_type": "code",
   "execution_count": 9,
   "metadata": {},
   "outputs": [],
   "source": [
    "from_scratch = False # if True, train model from scratch. If False, load saved model specified in config file\n",
    "\n",
    "if from_scratch:\n",
    "    date = utils.datenow()\n",
    "    device = torch.device('cpu')\n",
    "    net = model.RNNModule(flags.lstm_size, config.GLOVE, token_to_num, flags.embedding_size, \n",
    "                          flags.num_layers, flags.drop_prob)\n",
    "    net = net.to(device)\n",
    "    net, train_losses = train.train(flags.learning_rate, flags.num_epochs, X, Y, flags.batch_size, net, flags.gradients_norm,  \n",
    "                token_to_num, seeds, num_to_token, flags.top_k)\n",
    "    train.save_model(net, train_losses, config.DATA_ROOT+date+\"_lr\"+flags.learning_rate+\n",
    "                     \"_e\"+flags.num_epochs+\"_bs\"+flags.batch_size+\"_gn\"+flags.gradients_norm+\n",
    "                     \"_drop\"+flags.drop_prob+\"_size\"+flags.lstm_size+\n",
    "                     \"_embed\"+flags.embedding_size+\"_seq\"+flags.seq_size+\n",
    "                     \"min\"+flags.min_count+\"_k\"+flags.top_k+\"_wine_generator.pt\")\n",
    "else:\n",
    "    net, train_losses = train.load_model(config.MODEL, config.LOSSES, token_to_num)    "
   ]
  },
  {
   "cell_type": "markdown",
   "metadata": {},
   "source": [
    "### Plot a learning curve"
   ]
  },
  {
   "cell_type": "code",
   "execution_count": 10,
   "metadata": {
    "scrolled": true
   },
   "outputs": [
    {
     "data": {
      "image/png": "[encoded data removed]",
      "text/plain": [
       "<Figure size 432x288 with 1 Axes>"
      ]
     },
     "metadata": {
      "needs_background": "light"
     },
     "output_type": "display_data"
    }
   ],
   "source": [
    "fig = utils.learning_curve(train_losses)"
   ]
  },
  {
   "cell_type": "markdown",
   "metadata": {},
   "source": [
    "Loss decreases with experience and seems to be at or near a stable plateau."
   ]
  },
  {
   "cell_type": "markdown",
   "metadata": {},
   "source": [
    "### Generate wine tasting descriptions"
   ]
  },
  {
   "cell_type": "code",
   "execution_count": 11,
   "metadata": {},
   "outputs": [
    {
     "data": {
      "text/plain": [
       "'A crisp blend of 50% sangiovese, 35% grenache, 10% cabernet franc and 5% petit verdot. The palate is full and round, with firm backbone of tannins and bright acidity.'"
      ]
     },
     "execution_count": 11,
     "metadata": {},
     "output_type": "execute_result"
    }
   ],
   "source": [
    "utils.predict(net, token_to_num, num_to_token, 0, seeds, flags.top_k)"
   ]
  },
  {
   "cell_type": "markdown",
   "metadata": {},
   "source": [
    "A few examples:\n",
    "\n",
    "'A blend of cabernet sauvignon and petit verdot. The aromas are quite locked up, with notes of black cherry, raspberry, tobacco and a whiff of new leather. The palate is full and round, with firm tannins and bright acidity.'\n",
    "\n",
    "'This is a big, full-bodied wine. The tannins are quite present, but it's not too tannic. It's a bit awkward, but the finish is full of ripe, jammy black fruits, with a hint of smoke.'\n",
    "\n",
    "'Firm and stalky, with notes of smoke and black pepper. The palate is full and round, with chewy texture. Flavors of blackberry, plum and cassis finish with a touch of vanilla and spice.'\n",
    "\n",
    "'Sharp cinnamon and a whiff of leather come together on this full-bodied wine. The palate is full and round, with firm tannins and fresh acidity. Flavors of blackberry, plum and chocolate are a bit lean and tannic, but blunt.'\n",
    "\n",
    "\"This has flavors of ripe blackberry, black currant, licorice and sweet, smoky oak. It's a bit hot and tannic, with a long, spicy finish. It's a big wine, packed with fruit and tannins, with a rich, creamy texture.\"\n",
    "\n",
    "\"Shows the problems of the vintage, it's a bit sharp and tannic, with a light, spicy finish. The wine is dry and silky, with a rich core of blackberry jam, black cherry and currant.\"\n",
    "\n",
    "'Yellow wildflower and 40% merlot, this wine is a bit shy and more austere. The nose is light and fresh, with a long, silky texture.'"
   ]
  }
 ],
 "metadata": {
  "kernelspec": {
   "display_name": "Python 3",
   "language": "python",
   "name": "python3"
  },
  "language_info": {
   "codemirror_mode": {
    "name": "ipython",
    "version": 3
   },
   "file_extension": ".py",
   "mimetype": "text/x-python",
   "name": "python",
   "nbconvert_exporter": "python",
   "pygments_lexer": "ipython3",
   "version": "3.7.6"
  }
 },
 "nbformat": 4,
 "nbformat_minor": 4
}
